{
 "cells": [
  {
   "cell_type": "code",
   "execution_count": 4,
   "metadata": {},
   "outputs": [
    {
     "name": "stdout",
     "output_type": "stream",
     "text": [
      "Left hand, 0.99272954 confidence score\n",
      "Left hand, 0.9919396 confidence score\n",
      "Left hand, 0.9731328 confidence score\n",
      "Left hand, 0.97715616 confidence score\n",
      "Left hand, 0.98240197 confidence score\n",
      "Left hand, 0.9840727 confidence score\n",
      "Left hand, 0.9854686 confidence score\n",
      "Left hand, 0.9312184 confidence score\n",
      "Left hand, 0.9610751 confidence score\n",
      "Left hand, 0.9819503 confidence score\n",
      "Right hand, 0.91529197 confidence score\n",
      "Right hand, 0.968143 confidence score\n",
      "Right hand, 0.9605223 confidence score\n",
      "Right hand, 0.9401247 confidence score\n",
      "Right hand, 0.9664504 confidence score\n",
      "Right hand, 0.97453445 confidence score\n",
      "Right hand, 0.9767413 confidence score\n",
      "Right hand, 0.98136026 confidence score\n",
      "Right hand, 0.98187184 confidence score\n",
      "Right hand, 0.9822484 confidence score\n",
      "Right hand, 0.98480135 confidence score\n",
      "Right hand, 0.984793 confidence score\n",
      "Right hand, 0.98535085 confidence score\n",
      "Right hand, 0.9784325 confidence score\n",
      "Right hand, 0.96205527 confidence score\n",
      "Right hand, 0.9736437 confidence score\n",
      "Right hand, 0.97311556 confidence score\n",
      "Right hand, 0.9693437 confidence score\n",
      "Right hand, 0.9575591 confidence score\n",
      "Right hand, 0.9673094 confidence score\n"
     ]
    },
    {
     "ename": "KeyboardInterrupt",
     "evalue": "",
     "output_type": "error",
     "traceback": [
      "\u001b[1;31m---------------------------------------------------------------------------\u001b[0m",
      "\u001b[1;31mKeyboardInterrupt\u001b[0m                         Traceback (most recent call last)",
      "Cell \u001b[1;32mIn[4], line 50\u001b[0m\n\u001b[0;32m     47\u001b[0m     cv2\u001b[39m.\u001b[39mimshow(\u001b[39m\"\u001b[39m\u001b[39mHand Landmark Recognition\u001b[39m\u001b[39m\"\u001b[39m, img)\n\u001b[0;32m     49\u001b[0m     \u001b[39m# unicode black magic\u001b[39;00m\n\u001b[1;32m---> 50\u001b[0m     \u001b[39mif\u001b[39;00m cv2\u001b[39m.\u001b[39;49mwaitKey(\u001b[39m25\u001b[39;49m) \u001b[39m&\u001b[39m \u001b[39m0xFF\u001b[39m \u001b[39m==\u001b[39m \u001b[39mord\u001b[39m(\u001b[39m'\u001b[39m\u001b[39mq\u001b[39m\u001b[39m'\u001b[39m):\n\u001b[0;32m     51\u001b[0m         \u001b[39mbreak\u001b[39;00m\n\u001b[0;32m     53\u001b[0m capture\u001b[39m.\u001b[39mrelease()\n",
      "\u001b[1;31mKeyboardInterrupt\u001b[0m: "
     ]
    }
   ],
   "source": [
    "import cv2\n",
    "import numpy as np\n",
    "import mediapipe as mp\n",
    "import matplotlib.pyplot as plt\n",
    "from google.protobuf.json_format import MessageToDict\n",
    "\n",
    "BaseOptions = mp.tasks.BaseOptions\n",
    "HandLandmarker = mp.tasks.vision.HandLandmarker\n",
    "HandLandmarkerOptions = mp.tasks.vision.HandLandmarkerOptions\n",
    "HandLandmarkerResult = mp.tasks.vision.HandLandmarkerResult\n",
    "VisionRunningMode = mp.tasks.vision.RunningMode\n",
    "\n",
    "# hands\n",
    "mp_hands = mp.solutions.hands\n",
    "hands = mp_hands.Hands(\n",
    "    max_num_hands=2, # max 2 hands detection\n",
    "    min_detection_confidence=0.8, # detection confidence\n",
    "    min_tracking_confidence=0.5 # tracking confidence\n",
    "    )\n",
    "\n",
    "# camera instance\n",
    "capture = cv2.VideoCapture(0)\n",
    "# 3 for frame width, 4 for frame height\n",
    "IMG_WIDTH = 1280\n",
    "IMG_HEIGHT = 720\n",
    "capture.set(3, IMG_WIDTH)\n",
    "capture.set(4, IMG_HEIGHT)\n",
    "\n",
    "# main loop to access camera\n",
    "while capture.isOpened():\n",
    "    success, img = capture.read()\n",
    "\n",
    "    if not success:\n",
    "        break\n",
    "\n",
    "    # flip image so model works properly\n",
    "    img = cv2.flip(img, 1)\n",
    "    img = cv2.cvtColor(img, cv2.COLOR_BGR2RGB)\n",
    "    results = hands.process(img)\n",
    "    if (results.multi_handedness):\n",
    "        res = results.multi_handedness[0]\n",
    "        res = MessageToDict(res)['classification'][0]\n",
    "        print(f\"{res['label']} hand, {res['score']} confidence score\")\n",
    "\n",
    "    # print(result.multi_hand_landmarks)\n",
    "    img = cv2.cvtColor(img, cv2.COLOR_RGB2BGR)\n",
    "    cv2.imshow(\"Hand Landmark Recognition\", img)\n",
    "\n",
    "    # unicode black magic\n",
    "    if cv2.waitKey(25) & 0xFF == ord('q'):\n",
    "        break\n",
    "\n",
    "capture.release()\n",
    "cv2.destroyAllWindows()\n",
    "\n",
    "# # Create a hand landmarker instance with the live stream mode:\n",
    "# def print_result(\n",
    "#     result: HandLandmarkerResult, output_image: mp.Image, timestamp_ms: int\n",
    "# ):\n",
    "#     print(\"hand landmarker result: {}\".format(result))\n",
    "\n",
    "\n",
    "# options = HandLandmarkerOptions(\n",
    "#     base_options=BaseOptions(model_asset_path=\"hand_landmarker.task\"),\n",
    "#     running_mode=VisionRunningMode.LIVE_STREAM,\n",
    "#     result_callback=print_result,\n",
    "# )\n",
    "\n",
    "# with HandLandmarker.create_from_options(options) as landmarker:\n",
    "#     # The landmarker is initialized. Use it here.\n",
    "#     # ...\n",
    "#     exit()\n",
    "\n",
    "\n"
   ]
  },
  {
   "cell_type": "code",
   "execution_count": 12,
   "metadata": {},
   "outputs": [
    {
     "name": "stdout",
     "output_type": "stream",
     "text": [
      "{'index': 0, 'score': 0.97848207, 'label': 'Left'}\n"
     ]
    }
   ],
   "source": [
    "from google.protobuf.json_format import MessageToDict\n",
    "\n",
    "res = results.multi_handedness[0]\n",
    "res = MessageToDict(res)['classification'][0]\n",
    "print(res)\n"
   ]
  }
 ],
 "metadata": {
  "kernelspec": {
   "display_name": "venv",
   "language": "python",
   "name": "python3"
  },
  "language_info": {
   "codemirror_mode": {
    "name": "ipython",
    "version": 3
   },
   "file_extension": ".py",
   "mimetype": "text/x-python",
   "name": "python",
   "nbconvert_exporter": "python",
   "pygments_lexer": "ipython3",
   "version": "3.10.4"
  },
  "orig_nbformat": 4
 },
 "nbformat": 4,
 "nbformat_minor": 2
}
