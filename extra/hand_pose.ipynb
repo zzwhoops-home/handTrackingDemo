{
 "cells": [
  {
   "cell_type": "code",
   "execution_count": 3,
   "metadata": {},
   "outputs": [],
   "source": [
    "import cv2\n",
    "import numpy as np\n",
    "import mediapipe as mp\n",
    "import matplotlib.pyplot as plt\n",
    "from google.protobuf.json_format import MessageToDict\n",
    "\n",
    "BaseOptions = mp.tasks.BaseOptions\n",
    "HandLandmarker = mp.tasks.vision.HandLandmarker\n",
    "HandLandmarkerOptions = mp.tasks.vision.HandLandmarkerOptions\n",
    "HandLandmarkerResult = mp.tasks.vision.HandLandmarkerResult\n",
    "VisionRunningMode = mp.tasks.vision.RunningMode\n",
    "\n",
    "# hands\n",
    "mp_hands = mp.solutions.hands\n",
    "hands = mp_hands.Hands(\n",
    "    max_num_hands=2, # max 2 hands detection\n",
    "    min_detection_confidence=0.8, # detection confidence\n",
    "    min_tracking_confidence=0.5 # tracking confidence\n",
    "    )\n",
    "\n",
    "# camera instance\n",
    "#capture = cv2.VideoCapture(0) # uncomment if already have webcam\n",
    "capture = cv2.VideoCapture(\"http://10.0.0.115:4747/video?1280x720\") # ONLY OPENS UP WHEN ONE INSTANCE OF THIS IS OPEN! DO NOT OPEN IN BROWSER!\n",
    "\n",
    "# 3 for frame width, 4 for frame height\n",
    "IMG_WIDTH = 1280\n",
    "IMG_HEIGHT = 720\n",
    "capture.set(3, IMG_WIDTH)\n",
    "capture.set(4, IMG_HEIGHT)\n",
    "\n",
    "# main loop to access camera\n",
    "while capture.isOpened():\n",
    "    success, img = capture.read()\n",
    "\n",
    "    if not success:\n",
    "        break\n",
    "\n",
    "    # flip image so model works properly\n",
    "    img = cv2.flip(img, 1)\n",
    "    img = cv2.cvtColor(img, cv2.COLOR_BGR2RGB)\n",
    "    results = hands.process(img)\n",
    "    if (results.multi_handedness):\n",
    "        res = results.multi_handedness[0]\n",
    "        res = MessageToDict(res)['classification'][0]\n",
    "        print(f\"{res['label']} hand, {res['score']} confidence score\")\n",
    "\n",
    "    # print(result.multi_hand_landmarks)\n",
    "    img = cv2.cvtColor(img, cv2.COLOR_RGB2BGR)\n",
    "    cv2.imshow(\"Hand Landmark Recognition\", cv2.flip(img, 2))\n",
    "    \n",
    "\n",
    "    # unicode black magic\n",
    "    if cv2.waitKey(25) & 0xFF == ord('q'):\n",
    "        break\n",
    "\n",
    "capture.release()\n",
    "cv2.destroyAllWindows()\n",
    "\n",
    "# # Create a hand landmarker instance with the live stream mode:\n",
    "# def print_result(\n",
    "#     result: HandLandmarkerResult, output_image: mp.Image, timestamp_ms: int\n",
    "# ):\n",
    "#     print(\"hand landmarker result: {}\".format(result))\n",
    "\n",
    "\n",
    "# options = HandLandmarkerOptions(\n",
    "#     base_options=BaseOptions(model_asset_path=\"hand_landmarker.task\"),\n",
    "#     running_mode=VisionRunningMode.LIVE_STREAM,\n",
    "#     result_callback=print_result,\n",
    "# )\n",
    "\n",
    "# with HandLandmarker.create_from_options(options) as landmarker:\n",
    "#     # The landmarker is initialized. Use it here.\n",
    "#     # ...\n",
    "#     exit()\n",
    "\n",
    "\n"
   ]
  },
  {
   "cell_type": "code",
   "execution_count": 12,
   "metadata": {},
   "outputs": [
    {
     "name": "stdout",
     "output_type": "stream",
     "text": [
      "{'index': 0, 'score': 0.97848207, 'label': 'Left'}\n"
     ]
    }
   ],
   "source": [
    "from google.protobuf.json_format import MessageToDict\n",
    "\n",
    "res = results.multi_handedness[0]\n",
    "res = MessageToDict(res)['classification'][0]\n",
    "print(res)\n"
   ]
  }
 ],
 "metadata": {
  "kernelspec": {
   "display_name": "venv",
   "language": "python",
   "name": "python3"
  },
  "language_info": {
   "codemirror_mode": {
    "name": "ipython",
    "version": 3
   },
   "file_extension": ".py",
   "mimetype": "text/x-python",
   "name": "python",
   "nbconvert_exporter": "python",
   "pygments_lexer": "ipython3",
   "version": "3.9.16"
  },
  "orig_nbformat": 4
 },
 "nbformat": 4,
 "nbformat_minor": 2
}
