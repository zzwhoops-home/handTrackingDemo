{
 "cells": [
  {
   "cell_type": "code",
   "execution_count": 6,
   "metadata": {},
   "outputs": [],
   "source": [
    "import cv2\n",
    "import mediapipe as mp\n",
    "from cvzone.HandTrackingModule import HandDetector\n",
    "import socket\n",
    "\n",
    "cap = cv2.VideoCapture(0) # uncomment if you have webcam\n",
    "# cap = cv2.VideoCapture(\"http://10.0.0.115:4747/video\") # ONLY OPENS UP WHEN ONE INSTANCE OF THIS IS OPEN! DO NOT OPEN IN BROWSER!\n",
    "IMG_HEIGHT = 720\n",
    "IMG_WIDTH = 1280 \n",
    "cap.set(3, IMG_WIDTH)\n",
    "cap.set(4, IMG_HEIGHT)\n",
    "if not cap.isOpened():\n",
    "    raise IOError(\"Cannot open webcam\")\n",
    "    \n",
    "# DRAW BOTH HANDS ON SCREEN\n",
    "detector = HandDetector(maxHands=2, detectionCon=0.8)\n",
    "\n",
    "# Comms\n",
    "sock = socket.socket(socket.AF_INET, socket.SOCK_DGRAM)\n",
    "serverAddressPort = (\"127.0.0.1\", 5052)\n",
    "\n",
    "while(True):\n",
    "    success, img = cap.read()\n",
    "    # flipping image to make everything easier to control (like a mirror)\n",
    "\n",
    "    img = cv2.flip(img, 1)\n",
    "    hands, img = detector.findHands(img, flipType=False)\n",
    "    \n",
    "    data = []\n",
    "    # if hands:\n",
    "    #     for hand in hands:\n",
    "    #         print(hand)\n",
    "    #         # get list of landmarks\n",
    "    #         lmList = hand['lmList']\n",
    "\n",
    "    #         for lm in lmList:\n",
    "    #             data.extend([lm[0], IMG_HEIGHT - lm[1], lm[2]])\n",
    "    #         sock.sendto(str.encode(str(data)), serverAddressPort)    \n",
    "    if hands:\n",
    "        hand = hands[0]\n",
    "        # get list of landmarks\n",
    "        lmList = hand['lmList']\n",
    "\n",
    "        for lm in lmList:\n",
    "            data.extend([lm[0], IMG_HEIGHT - lm[1], lm[2]])\n",
    "        sock.sendto(str.encode(str(data)), serverAddressPort)\n",
    "    \n",
    "    cv2.imshow('Image', img)\n",
    "    if cv2.waitKey(1) & 0xFF == ord('q'):\n",
    "        break\n",
    "\n",
    "cap.release()\n",
    "cv2.destroyAllWindows()"
   ]
  }
 ],
 "metadata": {
  "kernelspec": {
   "display_name": "unitycv",
   "language": "python",
   "name": "python3"
  },
  "language_info": {
   "codemirror_mode": {
    "name": "ipython",
    "version": 3
   },
   "file_extension": ".py",
   "mimetype": "text/x-python",
   "name": "python",
   "nbconvert_exporter": "python",
   "pygments_lexer": "ipython3",
   "version": "3.10.4"
  },
  "orig_nbformat": 4
 },
 "nbformat": 4,
 "nbformat_minor": 2
}
