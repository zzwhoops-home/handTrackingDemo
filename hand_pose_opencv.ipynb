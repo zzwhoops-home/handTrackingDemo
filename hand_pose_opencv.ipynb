{
 "cells": [
  {
   "cell_type": "code",
   "execution_count": 4,
   "metadata": {},
   "outputs": [
    {
     "name": "stdout",
     "output_type": "stream",
     "text": [
      "{\"left\": {\"landmarks\": [], \"bbox\": [], \"center\": [], \"type\": \"\"}, \"right\": {\"landmarks\": [397, 110, 0, 473, 139, -22, 520, 196, -33, 538, 264, -39, 555, 314, -42, 465, 277, -30, 478, 323, -35, 495, 293, -34, 498, 259, -31, 418, 282, -22, 437, 326, -20, 455, 299, -19, 458, 268, -21, 377, 273, -15, 399, 309, -12, 416, 286, -7, 419, 258, -7, 343, 257, -9, 362, 285, -6, 376, 268, 2, 378, 245, 8], \"bbox\": [343, 394, 212, 216], \"center\": [449, 502], \"type\": \"right\"}}\n",
      "{\"left\": {\"landmarks\": [], \"bbox\": [], \"center\": [], \"type\": \"\"}, \"right\": {\"landmarks\": [394, 248, 0, 454, 271, -9, 501, 306, -21, 548, 324, -31, 584, 333, -44, 475, 386, -36, 500, 461, -51, 517, 503, -60, 532, 533, -65, 429, 398, -40, 436, 480, -53, 442, 530, -61, 449, 563, -67, 385, 392, -42, 385, 473, -54, 385, 523, -65, 389, 559, -72, 350, 373, -44, 335, 429, -56, 327, 459, -61, 322, 481, -63], \"bbox\": [322, 157, 262, 315], \"center\": [453, 314], \"type\": \"right\"}}\n",
      "{\"left\": {\"landmarks\": [1130, 325, 0, 1055, 354, -42, 1000, 392, -83, 967, 430, -117, 938, 476, -156, 1053, 468, -118, 1017, 549, -170, 999, 598, -200, 987, 640, -221, 1111, 477, -123, 1102, 575, -177, 1098, 635, -212, 1098, 685, -237, 1163, 470, -128, 1168, 563, -178, 1172, 622, -209, 1175, 667, -230, 1209, 450, -132, 1233, 516, -175, 1245, 564, -197, 1253, 603, -214], \"bbox\": [938, 35, 315, 360], \"center\": [1095, 215], \"type\": \"left\"}, \"right\": {\"landmarks\": [407, 366, 0, 476, 396, -16, 531, 439, -27, 575, 482, -34, 597, 524, -42, 487, 504, -44, 522, 579, -56, 545, 621, -63, 562, 656, -70, 438, 513, -45, 453, 591, -58, 460, 641, -70, 463, 678, -82, 392, 507, -44, 391, 579, -58, 392, 628, -73, 391, 665, -87, 357, 490, -43, 337, 548, -60, 323, 584, -72, 312, 615, -81], \"bbox\": [312, 42, 285, 312], \"center\": [454, 198], \"type\": \"right\"}}\n",
      "{\"left\": {\"landmarks\": [], \"bbox\": [], \"center\": [], \"type\": \"\"}, \"right\": {\"landmarks\": [1112, 353, 0, 1039, 394, -25, 984, 449, -41, 947, 498, -54, 909, 530, -68, 1034, 539, -25, 1000, 609, -47, 981, 656, -65, 971, 698, -78, 1089, 551, -29, 1084, 635, -48, 1084, 693, -64, 1086, 741, -76, 1139, 542, -37, 1150, 619, -60, 1158, 671, -75, 1163, 715, -84, 1185, 519, -47, 1210, 579, -67, 1223, 620, -74, 1232, 657, -78], \"bbox\": [909, -21, 323, 388], \"center\": [1070, 173], \"type\": \"right\"}}\n",
      "{\"left\": {\"landmarks\": [], \"bbox\": [], \"center\": [], \"type\": \"\"}, \"right\": {\"landmarks\": [1097, 376, 0, 1024, 410, -24, 967, 467, -36, 930, 514, -47, 893, 542, -58, 1012, 564, -17, 984, 633, -36, 968, 678, -53, 958, 717, -66, 1065, 577, -22, 1059, 661, -37, 1057, 712, -52, 1055, 753, -64, 1116, 570, -32, 1126, 649, -51, 1133, 699, -66, 1138, 742, -76, 1166, 547, -43, 1192, 605, -62, 1207, 646, -70, 1218, 684, -75], \"bbox\": [893, -33, 325, 377], \"center\": [1055, 155], \"type\": \"right\"}}\n",
      "{\"left\": {\"landmarks\": [], \"bbox\": [], \"center\": [], \"type\": \"\"}, \"right\": {\"landmarks\": [1078, 367, 0, 1009, 400, -27, 952, 456, -42, 913, 501, -56, 875, 529, -71, 993, 555, -20, 959, 622, -44, 940, 667, -65, 928, 707, -81, 1045, 571, -27, 1039, 654, -47, 1036, 708, -67, 1035, 756, -81, 1094, 564, -38, 1104, 645, -63, 1113, 697, -82, 1120, 744, -95, 1142, 540, -52, 1169, 599, -75, 1187, 640, -84, 1200, 679, -91], \"bbox\": [875, -36, 325, 389], \"center\": [1037, 158], \"type\": \"right\"}}\n",
      "{\"left\": {\"landmarks\": [], \"bbox\": [], \"center\": [], \"type\": \"\"}, \"right\": {\"landmarks\": [1077, 352, 0, 1008, 381, -26, 948, 436, -40, 908, 482, -54, 871, 511, -68, 986, 536, -25, 949, 605, -50, 929, 651, -70, 916, 691, -85, 1039, 552, -32, 1029, 641, -52, 1026, 698, -70, 1025, 745, -84, 1089, 546, -43, 1095, 631, -68, 1103, 686, -86, 1109, 731, -98, 1137, 523, -56, 1161, 585, -80, 1177, 628, -89, 1189, 667, -96], \"bbox\": [871, -25, 318, 393], \"center\": [1030, 171], \"type\": \"right\"}}\n",
      "{\"left\": {\"landmarks\": [389, 349, 0, 454, 370, -30, 506, 412, -44, 545, 456, -55, 561, 497, -66, 484, 503, -31, 531, 570, -56, 561, 614, -76, 588, 652, -90, 443, 524, -30, 465, 607, -54, 478, 660, -76, 491, 705, -91, 400, 527, -33, 415, 605, -57, 422, 656, -76, 430, 698, -89, 359, 516, -38, 351, 582, -60, 346, 615, -71, 342, 643, -78], \"bbox\": [342, 15, 246, 356], \"center\": [465, 193], \"type\": \"left\"}, \"right\": {\"landmarks\": [1082, 329, 0, 1010, 355, -37, 957, 399, -62, 922, 448, -84, 887, 491, -107, 989, 494, -52, 956, 575, -85, 939, 625, -108, 930, 668, -125, 1043, 508, -55, 1035, 606, -84, 1033, 666, -108, 1034, 716, -126, 1093, 503, -61, 1096, 593, -93, 1100, 652, -116, 1102, 700, -131, 1139, 484, -70, 1159, 553, -99, 1170, 601, -114, 1179, 644, -125], \"bbox\": [887, 4, 292, 387], \"center\": [1033, 197], \"type\": \"right\"}}\n"
     ]
    }
   ],
   "source": [
    "import cv2\n",
    "import mediapipe as mp\n",
    "from cvzone.HandTrackingModule import HandDetector\n",
    "import socket\n",
    "import json\n",
    "\n",
    "cap = cv2.VideoCapture(0) # uncomment if you have webcam\n",
    "# cap = cv2.VideoCapture(\"http://10.0.0.115:4747/video\") # ONLY OPENS UP WHEN ONE INSTANCE OF THIS IS OPEN! DO NOT OPEN IN BROWSER!\n",
    "IMG_HEIGHT = 720\n",
    "IMG_WIDTH = 1280 \n",
    "cap.set(3, IMG_WIDTH)\n",
    "cap.set(4, IMG_HEIGHT)\n",
    "if not cap.isOpened():\n",
    "    raise IOError(\"Cannot open webcam\")\n",
    "    \n",
    "# DRAW BOTH HANDS ON SCREEN\n",
    "detector = HandDetector(maxHands=2, detectionCon=0.8)\n",
    "\n",
    "# Comms\n",
    "sock = socket.socket(socket.AF_INET, socket.SOCK_DGRAM)\n",
    "serverAddressPort = (\"127.0.0.1\", 5052)\n",
    "\n",
    "while(True):\n",
    "    success, img = cap.read()\n",
    "    # flipping image to make everything easier to control (like a mirror)\n",
    "\n",
    "    img = cv2.flip(img, 1)\n",
    "    hands, img = detector.findHands(img, flipType=False)\n",
    "    \n",
    "    \"\"\"\n",
    "    Structure: {\n",
    "        \"landmarks\": List,\n",
    "        \"bbox\": Tuple,\n",
    "        \"center\": Tuple,\n",
    "        \"type\": String\n",
    "    }\n",
    "    \"\"\"\n",
    "    data = {\n",
    "        \"left\": {\n",
    "            \"landmarks\": [],\n",
    "            \"bbox\": (),\n",
    "            \"center\": (),\n",
    "            \"type\": \"\"\n",
    "        },\n",
    "        \"right\": {\n",
    "            \"landmarks\": [],\n",
    "            \"bbox\": (),\n",
    "            \"center\": (),\n",
    "            \"type\": \"\"\n",
    "        }\n",
    "    }\n",
    "    if hands:\n",
    "        for hand in hands:\n",
    "            # get left or right from hand so we can access the correct hand in the data object with a single if statement\n",
    "            lr = hand[\"type\"].lower()\n",
    "\n",
    "            if (data[lr][\"type\"] == \"\"):\n",
    "                # get list of landmarks, bounding box, center, then add them to JSON object\n",
    "                lmList = hand[\"lmList\"]\n",
    "                bbox = hand[\"bbox\"]\n",
    "                center = hand[\"center\"]\n",
    "\n",
    "                data[lr][\"bbox\"] = bbox\n",
    "                data[lr][\"center\"] = center\n",
    "                data[lr][\"type\"] = lr\n",
    "\n",
    "                for lm in lmList:\n",
    "                    data[lr][\"landmarks\"].extend([lm[0], IMG_HEIGHT - lm[1], lm[2]])\n",
    "\n",
    "        # convert to JSON\n",
    "        json_data = json.dumps(data)\n",
    "        print(json_data)\n",
    "        sock.sendto(json_data.encode(), serverAddressPort)\n",
    "    # if hands:\n",
    "    #     hand = hands[0]\n",
    "    #     # get list of landmarks\n",
    "    #     lmList = hand['lmList']\n",
    "\n",
    "    #     for lm in lmList:\n",
    "    #         data.extend([lm[0], IMG_HEIGHT - lm[1], lm[2]])\n",
    "    #     sock.sendto(str.encode(str(data)), serverAddressPort)\n",
    "    \n",
    "    cv2.imshow('Image', img)\n",
    "    if cv2.waitKey(1) & 0xFF == ord('q'):\n",
    "        break\n",
    "\n",
    "cap.release()\n",
    "cv2.destroyAllWindows()"
   ]
  },
  {
   "cell_type": "code",
   "execution_count": 7,
   "metadata": {},
   "outputs": [
    {
     "name": "stdout",
     "output_type": "stream",
     "text": [
      "[[479, 341, 0], [551, 317, -23], [612, 267, -32], [630, 206, -40], [622, 157, -49], [593, 185, -18], [622, 118, -41], [640, 79, -60], [659, 51, -72], [554, 165, -22], [581, 82, -42], [602, 34, -59], [622, 0, -71], [514, 161, -30], [540, 82, -51], [558, 35, -66], [578, 1, -75], [470, 172, -39], [476, 109, -61], [486, 68, -70], [499, 33, -76]]\n",
      "{'lmList': [[479, 341, 0], [551, 317, -23], [612, 267, -32], [630, 206, -40], [622, 157, -49], [593, 185, -18], [622, 118, -41], [640, 79, -60], [659, 51, -72], [554, 165, -22], [581, 82, -42], [602, 34, -59], [622, 0, -71], [514, 161, -30], [540, 82, -51], [558, 35, -66], [578, 1, -75], [470, 172, -39], [476, 109, -61], [486, 68, -70], [499, 33, -76]], 'bbox': (470, 0, 189, 341), 'center': (564, 170), 'type': 'Left'}\n"
     ]
    }
   ],
   "source": [
    "print(hand['lmList'])\n",
    "print(hand)"
   ]
  }
 ],
 "metadata": {
  "kernelspec": {
   "display_name": "unitycv",
   "language": "python",
   "name": "python3"
  },
  "language_info": {
   "codemirror_mode": {
    "name": "ipython",
    "version": 3
   },
   "file_extension": ".py",
   "mimetype": "text/x-python",
   "name": "python",
   "nbconvert_exporter": "python",
   "pygments_lexer": "ipython3",
   "version": "3.10.4"
  },
  "orig_nbformat": 4
 },
 "nbformat": 4,
 "nbformat_minor": 2
}
