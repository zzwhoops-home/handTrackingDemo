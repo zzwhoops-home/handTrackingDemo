{
 "cells": [
  {
   "cell_type": "code",
   "execution_count": 8,
   "metadata": {},
   "outputs": [],
   "source": [
    "import cv2\n",
    "import mediapipe as mp\n",
    "from cvzone.HandTrackingModule import HandDetector\n",
    "import socket\n",
    "import json\n",
    "\n",
    "cap = cv2.VideoCapture(0) # uncomment if you have webcam\n",
    "# cap = cv2.VideoCapture(\"http://10.0.0.115:4747/video\") # ONLY OPENS UP WHEN ONE INSTANCE OF THIS IS OPEN! DO NOT OPEN IN BROWSER!\n",
    "IMG_HEIGHT = 720\n",
    "IMG_WIDTH = 1280 \n",
    "cap.set(3, IMG_WIDTH)\n",
    "cap.set(4, IMG_HEIGHT)\n",
    "if not cap.isOpened():\n",
    "    raise IOError(\"Cannot open webcam\")\n",
    "    \n",
    "# DRAW BOTH HANDS ON SCREEN\n",
    "detector = HandDetector(maxHands=1, detectionCon=0.8)\n",
    "\n",
    "# Comms\n",
    "sock = socket.socket(socket.AF_INET, socket.SOCK_DGRAM)\n",
    "serverAddressPort = (\"127.0.0.1\", 5052)\n",
    "\n",
    "while(True):\n",
    "    success, img = cap.read()\n",
    "    # flipping image to make everything easier to control (like a mirror)\n",
    "\n",
    "    img = cv2.flip(img, 1)\n",
    "    hands, img = detector.findHands(img, flipType=False)\n",
    "\n",
    "    data = []\n",
    "    \n",
    "    if hands:\n",
    "        hand = hands[0]\n",
    "\n",
    "        # get list of landmarks, add to data object\n",
    "        lmList = hand[\"lmList\"]\n",
    "\n",
    "        for lm in lmList:\n",
    "            data.extend([lm[0], IMG_HEIGHT - lm[1], lm[2]])\n",
    "\n",
    "        sock.sendto(str.encode(str(data)), serverAddressPort)\n",
    "    # if hands:\n",
    "    #     hand = hands[0]\n",
    "    #     # get list of landmarks\n",
    "    #     lmList = hand['lmList']\n",
    "\n",
    "    #     for lm in lmList:\n",
    "    #         data.extend([lm[0], IMG_HEIGHT - lm[1], lm[2]])\n",
    "    #     sock.sendto(str.encode(str(data)), serverAddressPort)\n",
    "    \n",
    "    cv2.imshow('Image', img)\n",
    "    if cv2.waitKey(1) & 0xFF == ord('q'):\n",
    "        break\n",
    "\n",
    "cap.release()\n",
    "cv2.destroyAllWindows()"
   ]
  },
  {
   "cell_type": "code",
   "execution_count": 7,
   "metadata": {},
   "outputs": [
    {
     "name": "stdout",
     "output_type": "stream",
     "text": [
      "[[479, 341, 0], [551, 317, -23], [612, 267, -32], [630, 206, -40], [622, 157, -49], [593, 185, -18], [622, 118, -41], [640, 79, -60], [659, 51, -72], [554, 165, -22], [581, 82, -42], [602, 34, -59], [622, 0, -71], [514, 161, -30], [540, 82, -51], [558, 35, -66], [578, 1, -75], [470, 172, -39], [476, 109, -61], [486, 68, -70], [499, 33, -76]]\n",
      "{'lmList': [[479, 341, 0], [551, 317, -23], [612, 267, -32], [630, 206, -40], [622, 157, -49], [593, 185, -18], [622, 118, -41], [640, 79, -60], [659, 51, -72], [554, 165, -22], [581, 82, -42], [602, 34, -59], [622, 0, -71], [514, 161, -30], [540, 82, -51], [558, 35, -66], [578, 1, -75], [470, 172, -39], [476, 109, -61], [486, 68, -70], [499, 33, -76]], 'bbox': (470, 0, 189, 341), 'center': (564, 170), 'type': 'Left'}\n"
     ]
    }
   ],
   "source": [
    "print(hand['lmList'])\n",
    "print(hand)"
   ]
  }
 ],
 "metadata": {
  "kernelspec": {
   "display_name": "unitycv",
   "language": "python",
   "name": "python3"
  },
  "language_info": {
   "codemirror_mode": {
    "name": "ipython",
    "version": 3
   },
   "file_extension": ".py",
   "mimetype": "text/x-python",
   "name": "python",
   "nbconvert_exporter": "python",
   "pygments_lexer": "ipython3",
   "version": "3.10.4"
  },
  "orig_nbformat": 4
 },
 "nbformat": 4,
 "nbformat_minor": 2
}
